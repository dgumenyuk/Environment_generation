{
 "cells": [
  {
   "cell_type": "code",
   "execution_count": 1,
   "id": "integral-concrete",
   "metadata": {},
   "outputs": [],
   "source": [
    "import pandas as pd\n",
    "import numpy as np\n",
    "import matplotlib.pyplot as plt\n",
    "import os\n",
    "import json"
   ]
  },
  {
   "cell_type": "markdown",
   "id": "wrong-lotus",
   "metadata": {},
   "source": [
    "Read the files"
   ]
  },
  {
   "cell_type": "code",
   "execution_count": 2,
   "id": "broken-steps",
   "metadata": {},
   "outputs": [],
   "source": [
    "base = \".\\\\results_swat_2h\\\\\"\n",
    "fail_list_swat = []\n",
    "spars_list_swat = []\n",
    "total_list_swat = []\n",
    "valid_list_swat = []\n",
    "for file in os.listdir(base):\n",
    "    path = os.path.join(base, file)\n",
    "    data = pd.read_csv(os.path.join(path,\"generation_stats.csv\"))\n",
    "    failures = int(data[\"test_failed\"])\n",
    "    tot = int(data[\"test_generated\"])\n",
    "    valid = int(data[\"test_valid\"])\n",
    "\n",
    "    total_list_swat.append(tot)\n",
    "    valid_list_swat.append(valid)\n",
    "    fail_list_swat.append(failures)\n",
    "    if os.path.exists(os.path.join(path,\"oob_stats.csv\")):\n",
    "        data_sp = pd.read_csv(os.path.join(path,\"oob_stats.csv\"))\n",
    "        sparsity = float(data_sp[\"avg_sparseness\"])\n",
    "        spars_list_swat.append(sparsity)\n",
    "        \n"
   ]
  },
  {
   "cell_type": "code",
   "execution_count": 3,
   "id": "demonstrated-emerald",
   "metadata": {},
   "outputs": [],
   "source": [
    "base = \".\\\\results_frenetic_2h\\\\\"\n",
    "fail_list_fr = []\n",
    "spars_list_fr = []\n",
    "total_list_fr = []\n",
    "valid_list_fr = []\n",
    "for file in os.listdir(base):\n",
    "    path = os.path.join(base, file)\n",
    "    data = pd.read_csv(os.path.join(path,\"generation_stats.csv\"))\n",
    "    failures = int(data[\"test_failed\"])\n",
    "    fail_list_fr.append(failures)\n",
    "    tot = int(data[\"test_generated\"])\n",
    "    valid = int(data[\"test_valid\"])\n",
    "    total_list_fr.append(tot)\n",
    "    valid_list_fr.append(valid)\n",
    "    if os.path.exists(os.path.join(path,\"oob_stats.csv\")):\n",
    "        data_sp = pd.read_csv(os.path.join(path,\"oob_stats.csv\"))\n",
    "        sparsity = float(data_sp[\"avg_sparseness\"])\n",
    "        spars_list_fr.append(sparsity)"
   ]
  },
  {
   "cell_type": "code",
   "execution_count": 6,
   "id": "daily-clearance",
   "metadata": {},
   "outputs": [],
   "source": [
    "base = \".\\\\results_random_generator_2h\\\\\"\n",
    "fail_list_ran = []\n",
    "spars_list_ran = []\n",
    "total_list_ran = []\n",
    "valid_list_ran = []\n",
    "for file in os.listdir(base):\n",
    "    path = os.path.join(base, file)\n",
    "    \n",
    "    data = pd.read_csv(os.path.join(path,\"generation_stats.csv\"))\n",
    "    failures = int(data[\"test_failed\"])\n",
    "    fail_list_ran.append(failures)\n",
    "    tot = int(data[\"test_generated\"])\n",
    "    valid = int(data[\"test_valid\"])\n",
    "\n",
    "    total_list_ran.append(tot)\n",
    "    valid_list_ran.append(valid)\n",
    "    if os.path.exists(os.path.join(path,\"oob_stats.csv\")):\n",
    "        data_sp = pd.read_csv(os.path.join(path,\"oob_stats.csv\"))\n",
    "        sparsity = float(data_sp[\"avg_sparseness\"])\n",
    "        if sparsity > 1:\n",
    "            spars_list_ran.append(float(sparsity))"
   ]
  },
  {
   "cell_type": "code",
   "execution_count": 7,
   "id": "designing-brazilian",
   "metadata": {},
   "outputs": [],
   "source": [
    "base = \".\\\\results_random_search_2h\\\\\"\n",
    "fail_list_ran_s = []\n",
    "spars_list_ran_s = []\n",
    "total_list_ran_s = []\n",
    "valid_list_ran_s = []\n",
    "for file in os.listdir(base):\n",
    "    path = os.path.join(base, file)\n",
    "    \n",
    "    data = pd.read_csv(os.path.join(path,\"generation_stats.csv\"))\n",
    "    failures = int(data[\"test_failed\"])\n",
    "    fail_list_ran_s.append(failures)\n",
    "    tot = int(data[\"test_generated\"])\n",
    "    valid = int(data[\"test_valid\"])\n",
    "\n",
    "    total_list_ran_s.append(tot)\n",
    "    valid_list_ran_s.append(valid)\n",
    "    if os.path.exists(os.path.join(path,\"oob_stats.csv\")):\n",
    "        data_sp = pd.read_csv(os.path.join(path,\"oob_stats.csv\"))\n",
    "        sparsity = float(data_sp[\"avg_sparseness\"])\n",
    "        spars_list_ran_s.append(sparsity)"
   ]
  },
  {
   "cell_type": "code",
   "execution_count": 8,
   "id": "otherwise-gathering",
   "metadata": {},
   "outputs": [],
   "source": [
    "ratio_list_ran_s = np.divide(valid_list_ran_s, total_list_ran_s)\n",
    "ratio_list_ran = np.divide(valid_list_ran, total_list_ran)\n",
    "ratio_list_fr = np.divide(valid_list_fr, total_list_fr)\n",
    "ratio_list_swat = np.divide(valid_list_swat, total_list_swat)"
   ]
  },
  {
   "cell_type": "code",
   "execution_count": 9,
   "id": "departmental-helicopter",
   "metadata": {},
   "outputs": [],
   "source": [
    "full_fail =[7, 9, 2, 7, 5, 8, 7, 7, 9, 2, 7, 5, 8, 7, 4, 3, 7, 9, 5, 8, 3]\n",
    "full_spars = [25, 28, 30, 31, 25, 24, 22, 28]"
   ]
  },
  {
   "cell_type": "code",
   "execution_count": 10,
   "id": "talented-comparative",
   "metadata": {},
   "outputs": [],
   "source": [
    "y1 = [fail_list_swat, fail_list_fr, fail_list_ran, fail_list_ran_s, full_fail]\n",
    "\n",
    "x1 = [\"AmbieGen\", \"Frenetic\",  \"Random_gen\", \"RS\", \"Full_model\"]\n",
    "y2 = [spars_list_swat, spars_list_fr, spars_list_ran, spars_list_ran_s, full_spars]\n",
    "y3 = [ratio_list_swat, ratio_list_fr, ratio_list_ran, ratio_list_ran_s]"
   ]
  },
  {
   "cell_type": "markdown",
   "id": "bright-export",
   "metadata": {},
   "source": [
    "Build boxplots"
   ]
  },
  {
   "cell_type": "code",
   "execution_count": 11,
   "id": "owned-shoulder",
   "metadata": {},
   "outputs": [],
   "source": [
    "def build_boxplot_f(y1, x1):\n",
    "    fig, ax1 = plt.subplots(figsize=(10, 5))\n",
    "    \n",
    "    ax1.set_xlabel('2h experiment', fontsize=20)\n",
    "    ax1.set_ylabel('Revealed faults', fontsize=20)\n",
    "       \n",
    "    ax1.set_xticklabels(x1, fontsize=16, rotation=0)\n",
    "    \n",
    "    ax1.yaxis.grid(True, linestyle='-', which='major', color='darkgray', alpha=0.7)\n",
    "\n",
    "    top = 30\n",
    "    bottom = 0\n",
    "    ax1.set_ylim(bottom, top)\n",
    "    ax1.boxplot(y1)\n",
    "    \n",
    "    ax1.tick_params(axis='y', labelsize=20)\n"
   ]
  },
  {
   "cell_type": "code",
   "execution_count": 12,
   "id": "alive-composition",
   "metadata": {},
   "outputs": [
    {
     "name": "stderr",
     "output_type": "stream",
     "text": [
      "<ipython-input-11-01442a58857f>:7: UserWarning: FixedFormatter should only be used together with FixedLocator\n",
      "  ax1.set_xticklabels(x1, fontsize=16, rotation=0)\n"
     ]
    },
    {
     "data": {
      "image/png": "[encoded data removed]",
      "text/plain": [
       "<Figure size 720x360 with 1 Axes>"
      ]
     },
     "metadata": {
      "needs_background": "light"
     },
     "output_type": "display_data"
    }
   ],
   "source": [
    "build_boxplot_f(y1, x1)"
   ]
  },
  {
   "cell_type": "code",
   "execution_count": 13,
   "id": "noticed-account",
   "metadata": {},
   "outputs": [],
   "source": [
    "def build_boxplot_s(y1, x1):\n",
    "    fig, ax1 = plt.subplots(figsize=(10, 5))\n",
    "    \n",
    "    ax1.set_xlabel('2h experiment', fontsize=20)\n",
    "    ax1.set_ylabel('Fault diversity', fontsize=20)\n",
    "        \n",
    "    ax1.set_xticklabels(x1, fontsize=16, rotation=0)\n",
    "    \n",
    "    ax1.yaxis.grid(True, linestyle='-', which='major', color='darkgray', alpha=0.7)\n",
    "    top = 40\n",
    "    bottom = 0\n",
    "    ax1.set_ylim(bottom, top)\n",
    "    ax1.boxplot(y1)\n",
    "    \n",
    "    ax1.tick_params(axis='y', labelsize=20)"
   ]
  },
  {
   "cell_type": "code",
   "execution_count": 14,
   "id": "tutorial-stuff",
   "metadata": {},
   "outputs": [
    {
     "name": "stderr",
     "output_type": "stream",
     "text": [
      "<ipython-input-13-c817b53bab03>:7: UserWarning: FixedFormatter should only be used together with FixedLocator\n",
      "  ax1.set_xticklabels(x1, fontsize=16, rotation=0)\n"
     ]
    },
    {
     "data": {
      "image/png": "[encoded data removed]",
      "text/plain": [
       "<Figure size 720x360 with 1 Axes>"
      ]
     },
     "metadata": {
      "needs_background": "light"
     },
     "output_type": "display_data"
    }
   ],
   "source": [
    "build_boxplot_s(y2, x1)"
   ]
  },
  {
   "cell_type": "code",
   "execution_count": 15,
   "id": "consecutive-orleans",
   "metadata": {},
   "outputs": [],
   "source": [
    "def build_boxplot_r(y1, x1):\n",
    "    fig, ax1 = plt.subplots(figsize=(10, 5))\n",
    "    \n",
    "    ax1.set_xlabel('2h experiment', fontsize=20)\n",
    "    ax1.set_ylabel('Revealed faults', fontsize=20)\n",
    "    \n",
    "    ax1.set_xticklabels(x1, fontsize=16, rotation=0)\n",
    "    \n",
    "    ax1.yaxis.grid(True, linestyle='-', which='major', color='darkgray', alpha=0.7)\n",
    "    top = 1\n",
    "    bottom = 0\n",
    "    ax1.set_ylim(bottom, top)\n",
    "    ax1.boxplot(y1)\n",
    "    \n",
    "    ax1.tick_params(axis='y', labelsize=20)"
   ]
  },
  {
   "cell_type": "code",
   "execution_count": 16,
   "id": "rational-priority",
   "metadata": {},
   "outputs": [
    {
     "name": "stderr",
     "output_type": "stream",
     "text": [
      "<ipython-input-15-af9b2339c5a6>:7: UserWarning: FixedFormatter should only be used together with FixedLocator\n",
      "  ax1.set_xticklabels(x1, fontsize=16, rotation=0)\n"
     ]
    },
    {
     "data": {
      "image/png": "[encoded data removed]",
      "text/plain": [
       "<Figure size 720x360 with 1 Axes>"
      ]
     },
     "metadata": {
      "needs_background": "light"
     },
     "output_type": "display_data"
    }
   ],
   "source": [
    "build_boxplot_r(y3, x1)"
   ]
  },
  {
   "cell_type": "markdown",
   "id": "bizarre-grain",
   "metadata": {},
   "source": [
    "Run statistical tests"
   ]
  },
  {
   "cell_type": "code",
   "execution_count": 123,
   "id": "standing-novel",
   "metadata": {},
   "outputs": [
    {
     "data": {
      "text/plain": [
       "MannwhitneyuResult(statistic=532.0, pvalue=8.56521167104252e-09)"
      ]
     },
     "execution_count": 123,
     "metadata": {},
     "output_type": "execute_result"
    }
   ],
   "source": [
    "list1=ratio_list_ran\n",
    "list2=ratio_list_ran_s\n",
    "from scipy.stats import mannwhitneyu\n",
    "mannwhitneyu(list1, list2, alternative=\"two-sided\")"
   ]
  },
  {
   "cell_type": "code",
   "execution_count": 124,
   "id": "coral-password",
   "metadata": {},
   "outputs": [
    {
     "data": {
      "text/plain": [
       "(1.0, 'large')"
      ]
     },
     "execution_count": 124,
     "metadata": {},
     "output_type": "execute_result"
    }
   ],
   "source": [
    "from cliffsDelta import cliffsDelta\n",
    "d, res = cliffsDelta(list1, list2)\n",
    "(d, res)"
   ]
  }
 ],
 "metadata": {
  "kernelspec": {
   "display_name": "Python 3",
   "language": "python",
   "name": "python3"
  },
  "language_info": {
   "codemirror_mode": {
    "name": "ipython",
    "version": 3
   },
   "file_extension": ".py",
   "mimetype": "text/x-python",
   "name": "python",
   "nbconvert_exporter": "python",
   "pygments_lexer": "ipython3",
   "version": "3.9.1"
  }
 },
 "nbformat": 4,
 "nbformat_minor": 5
}
