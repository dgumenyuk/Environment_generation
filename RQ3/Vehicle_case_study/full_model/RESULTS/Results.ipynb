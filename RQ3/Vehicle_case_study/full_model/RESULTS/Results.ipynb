{
 "cells": [
  {
   "cell_type": "code",
   "execution_count": 3,
   "id": "broad-defense",
   "metadata": {},
   "outputs": [],
   "source": [
    "import json\n",
    "import os"
   ]
  },
  {
   "cell_type": "code",
   "execution_count": 4,
   "id": "demonstrated-stylus",
   "metadata": {},
   "outputs": [],
   "source": [
    "with open(\"Results_dist2.json\", \"r\") as f:\n",
    "    dict1 = json.load(f)"
   ]
  },
  {
   "cell_type": "code",
   "execution_count": 5,
   "id": "ranking-marketplace",
   "metadata": {},
   "outputs": [],
   "source": [
    "with open(\"Results_dist3.json\", \"r\") as f:\n",
    "    dict2 = json.load(f)"
   ]
  },
  {
   "cell_type": "code",
   "execution_count": 6,
   "id": "spanish-rendering",
   "metadata": {},
   "outputs": [],
   "source": [
    "with open(\"Results_dist4.json\", \"r\") as f:\n",
    "    dict3 = json.load(f)"
   ]
  },
  {
   "cell_type": "code",
   "execution_count": null,
   "id": "tutorial-loading",
   "metadata": {},
   "outputs": [],
   "source": []
  },
  {
   "cell_type": "code",
   "execution_count": 7,
   "id": "toxic-internet",
   "metadata": {},
   "outputs": [],
   "source": [
    "fails_num = []"
   ]
  },
  {
   "cell_type": "code",
   "execution_count": 8,
   "id": "german-projection",
   "metadata": {},
   "outputs": [
    {
     "name": "stdout",
     "output_type": "stream",
     "text": [
      "5\n",
      "6\n",
      "8\n",
      "7\n"
     ]
    }
   ],
   "source": [
    "\n",
    "for run in dict1:\n",
    "    print(len(dict1[run][\"failures\"]))\n",
    "    fails_num.append(len(dict1[run][\"failures\"]))"
   ]
  },
  {
   "cell_type": "code",
   "execution_count": 9,
   "id": "breathing-chinese",
   "metadata": {},
   "outputs": [
    {
     "name": "stdout",
     "output_type": "stream",
     "text": [
      "7\n",
      "9\n",
      "2\n",
      "7\n",
      "5\n",
      "8\n",
      "7\n"
     ]
    }
   ],
   "source": [
    "for run in dict2:\n",
    "    print(len(dict2[run][\"failures\"]))\n",
    "    fails_num.append(len(dict2[run][\"failures\"]))"
   ]
  },
  {
   "cell_type": "code",
   "execution_count": 10,
   "id": "random-label",
   "metadata": {},
   "outputs": [
    {
     "name": "stdout",
     "output_type": "stream",
     "text": [
      "4\n",
      "3\n",
      "7\n",
      "9\n",
      "5\n",
      "8\n",
      "3\n"
     ]
    }
   ],
   "source": [
    "for run in dict3:\n",
    "    print(len(dict3[run][\"failures\"]))\n",
    "    fails_num.append(len(dict3[run][\"failures\"]))"
   ]
  },
  {
   "cell_type": "code",
   "execution_count": 11,
   "id": "discrete-taylor",
   "metadata": {},
   "outputs": [
    {
     "data": {
      "text/plain": [
       "[5, 6, 8, 7, 7, 9, 2, 7, 5, 8, 7, 4, 3, 7, 9, 5, 8, 3]"
      ]
     },
     "execution_count": 11,
     "metadata": {},
     "output_type": "execute_result"
    }
   ],
   "source": [
    "fails_num"
   ]
  },
  {
   "cell_type": "code",
   "execution_count": null,
   "id": "prescribed-seeker",
   "metadata": {},
   "outputs": [],
   "source": []
  }
 ],
 "metadata": {
  "kernelspec": {
   "display_name": "Python 3",
   "language": "python",
   "name": "python3"
  },
  "language_info": {
   "codemirror_mode": {
    "name": "ipython",
    "version": 3
   },
   "file_extension": ".py",
   "mimetype": "text/x-python",
   "name": "python",
   "nbconvert_exporter": "python",
   "pygments_lexer": "ipython3",
   "version": "3.9.1"
  }
 },
 "nbformat": 4,
 "nbformat_minor": 5
}
