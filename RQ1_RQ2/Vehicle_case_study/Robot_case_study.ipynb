{
 "cells": [
  {
   "cell_type": "code",
   "execution_count": null,
   "id": "protected-championship",
   "metadata": {},
   "outputs": [],
   "source": []
  },
  {
   "cell_type": "code",
   "execution_count": 59,
   "id": "common-stadium",
   "metadata": {},
   "outputs": [],
   "source": [
    "import json\n",
    "from matplotlib import pyplot as plt\n",
    "import numpy as np\n",
    "\n",
    "import statistics"
   ]
  },
  {
   "cell_type": "code",
   "execution_count": 60,
   "id": "defined-opposition",
   "metadata": {},
   "outputs": [],
   "source": [
    "n_gen = 200  #  number of generatons\n",
    "n = 10  #  number of generations to group"
   ]
  },
  {
   "cell_type": "markdown",
   "id": "announced-village",
   "metadata": {},
   "source": [
    "Read files"
   ]
  },
  {
   "cell_type": "code",
   "execution_count": 61,
   "id": "heated-links",
   "metadata": {},
   "outputs": [],
   "source": [
    "with open(\"Results_vehicle_ga.json\", \"r\") as f:\n",
    "    ga = json.load(f)"
   ]
  },
  {
   "cell_type": "code",
   "execution_count": 62,
   "id": "facial-yahoo",
   "metadata": {},
   "outputs": [],
   "source": [
    "with open(\"Results_vehicle_mo.json\", \"r\") as f:\n",
    "    mo = json.load(f)"
   ]
  },
  {
   "cell_type": "code",
   "execution_count": 63,
   "id": "ready-landing",
   "metadata": {},
   "outputs": [],
   "source": [
    "with open(\"Results_vehicle_ran.json\", \"r\") as f:\n",
    "    ran = json.load(f)"
   ]
  },
  {
   "cell_type": "code",
   "execution_count": null,
   "id": "diagnostic-investing",
   "metadata": {},
   "outputs": [],
   "source": [
    "Group evaluaitons by generations of n"
   ]
  },
  {
   "cell_type": "code",
   "execution_count": 64,
   "id": "monthly-catering",
   "metadata": {},
   "outputs": [],
   "source": [
    "mo_by_generation = {}\n",
    "for i in range(0, n_gen, n):\n",
    "    mo_by_generation[i] = []"
   ]
  },
  {
   "cell_type": "code",
   "execution_count": 65,
   "id": "resistant-january",
   "metadata": {},
   "outputs": [],
   "source": [
    "ga_by_generation = {}\n",
    "for i in range(0, n_gen, n):\n",
    "    ga_by_generation[i] = []"
   ]
  },
  {
   "cell_type": "code",
   "execution_count": 66,
   "id": "republican-figure",
   "metadata": {},
   "outputs": [],
   "source": [
    "ran_by_generation = {}\n",
    "for i in range(0, n_gen, n):\n",
    "    ran_by_generation[i] = []"
   ]
  },
  {
   "cell_type": "code",
   "execution_count": 67,
   "id": "vital-montana",
   "metadata": {},
   "outputs": [],
   "source": [
    "n_gen_res = []\n",
    "for i, run in enumerate(ran):\n",
    "    for m in range(0, len(ran[run][\"fitness\"]), n):\n",
    "        ran_by_generation[m].append(ran[run][\"fitness\"][m])"
   ]
  },
  {
   "cell_type": "code",
   "execution_count": 68,
   "id": "frozen-rocket",
   "metadata": {},
   "outputs": [],
   "source": [
    "\n",
    "for i, run in enumerate(mo):\n",
    "    #print(len(mo[run][\"fitness\"]))\n",
    "    for m in range(0, len(mo[run][\"fitness\"]), n):\n",
    "        mo_by_generation[m].append(mo[run][\"fitness\"][m])"
   ]
  },
  {
   "cell_type": "code",
   "execution_count": 69,
   "id": "declared-amateur",
   "metadata": {},
   "outputs": [],
   "source": [
    "\n",
    "for i, run in enumerate(ga):\n",
    "    for m in range(0, len(ga[run][\"fitness\"]), n):\n",
    "        #print(type(ga_by_generation[m]))\n",
    "        ga_by_generation[m].append(ga[run][\"fitness\"][m])"
   ]
  },
  {
   "cell_type": "markdown",
   "id": "actual-health",
   "metadata": {},
   "source": [
    "Evaluate the novelty"
   ]
  },
  {
   "cell_type": "code",
   "execution_count": 88,
   "id": "palestinian-cooperation",
   "metadata": {},
   "outputs": [],
   "source": [
    "mo_novelty = []\n",
    "for i, run in enumerate(mo):\n",
    "    mo_novelty.append(-mo[run][\"novelty_20\"])"
   ]
  },
  {
   "cell_type": "code",
   "execution_count": 89,
   "id": "proud-frontier",
   "metadata": {},
   "outputs": [],
   "source": [
    "ga_novelty = []\n",
    "for i, run in enumerate(ga):\n",
    "    ga_novelty.append(-ga[run][\"novelty_20\"])"
   ]
  },
  {
   "cell_type": "markdown",
   "id": "constant-period",
   "metadata": {},
   "source": [
    "Evaluate average time"
   ]
  },
  {
   "cell_type": "code",
   "execution_count": 95,
   "id": "alpha-connectivity",
   "metadata": {},
   "outputs": [
    {
     "data": {
      "text/plain": [
       "1140.374314174056"
      ]
     },
     "execution_count": 95,
     "metadata": {},
     "output_type": "execute_result"
    }
   ],
   "source": [
    "mo_time = []\n",
    "for i, run in enumerate(mo):\n",
    "    mo_time.append(mo[run][\"time\"])\n",
    "sum(mo_time)/len(mo_time)"
   ]
  },
  {
   "cell_type": "code",
   "execution_count": 96,
   "id": "shared-preference",
   "metadata": {},
   "outputs": [
    {
     "data": {
      "text/plain": [
       "1391.7791401545207"
      ]
     },
     "execution_count": 96,
     "metadata": {},
     "output_type": "execute_result"
    }
   ],
   "source": [
    "ga_time = []\n",
    "for i, run in enumerate(ga):\n",
    "    ga_time.append(ga[run][\"time\"])\n",
    "sum(ga_time)/len(ga_time)"
   ]
  },
  {
   "cell_type": "markdown",
   "id": "productive-uruguay",
   "metadata": {},
   "source": [
    "Build graphs"
   ]
  },
  {
   "cell_type": "code",
   "execution_count": 101,
   "id": "clear-journalism",
   "metadata": {},
   "outputs": [],
   "source": [
    "def build_boxplot(y1, x1):\n",
    "    fig, ax1 = plt.subplots(figsize=(10, 5))\n",
    "    \n",
    "    ax1.set_xlabel('Type of algorithm', fontsize=16)\n",
    "    ax1.set_ylabel('Average novelty', fontsize=16)\n",
    "    \n",
    "    ax1.set_xticklabels(x1, fontsize=16, rotation=45)\n",
    "    \n",
    "    ax1.yaxis.grid(True, linestyle='-', which='major', color='darkgray', alpha=0.5)\n",
    "    top = 12\n",
    "    bottom = 0\n",
    "    ax1.set_ylim(bottom, top)\n",
    "    ax1.boxplot(y1)   \n",
    "    ax1.tick_params(axis='y', labelsize=16)"
   ]
  },
  {
   "cell_type": "code",
   "execution_count": 102,
   "id": "automatic-mapping",
   "metadata": {},
   "outputs": [
    {
     "name": "stderr",
     "output_type": "stream",
     "text": [
      "<ipython-input-101-d8e9d6feedc9>:7: UserWarning: FixedFormatter should only be used together with FixedLocator\n",
      "  ax1.set_xticklabels(x1, fontsize=16, rotation=45)\n"
     ]
    },
    {
     "data": {
      "image/png": "[encoded data removed]",
      "text/plain": [
       "<Figure size 720x360 with 1 Axes>"
      ]
     },
     "metadata": {
      "needs_background": "light"
     },
     "output_type": "display_data"
    }
   ],
   "source": [
    "build_boxplot([ga_novelty, mo_novelty], [\"GA\", \"NSGA2\"] )"
   ]
  },
  {
   "cell_type": "code",
   "execution_count": 106,
   "id": "molecular-chicken",
   "metadata": {},
   "outputs": [],
   "source": [
    "def build_boxplot_time(y1, x1):\n",
    "    fig, ax1 = plt.subplots(figsize=(20, 10))\n",
    "    \n",
    "    ax1.set_xlabel('Type of algorithm', fontsize=16)\n",
    "    ax1.set_ylabel('Time for 50 000 evaluations, sec', fontsize=16)\n",
    "    ax1.set_xticklabels(x1, fontsize=16, rotation=45)\n",
    "    \n",
    "    ax1.yaxis.grid(True, linestyle='-', which='major', color='darkgray', alpha=0.5)\n",
    "\n",
    "    top = 1800\n",
    "    bottom = 0\n",
    "    ax1.set_ylim(bottom, top)\n",
    "    ax1.boxplot(y1)\n",
    "    \n",
    "    ax1.tick_params(axis='y', labelsize=16)"
   ]
  },
  {
   "cell_type": "code",
   "execution_count": 107,
   "id": "turned-plaza",
   "metadata": {},
   "outputs": [
    {
     "name": "stderr",
     "output_type": "stream",
     "text": [
      "<ipython-input-106-47d933c99d24>:6: UserWarning: FixedFormatter should only be used together with FixedLocator\n",
      "  ax1.set_xticklabels(x1, fontsize=16, rotation=45)\n"
     ]
    },
    {
     "data": {
      "image/png": "[encoded data removed]",
      "text/plain": [
       "<Figure size 1440x720 with 1 Axes>"
      ]
     },
     "metadata": {
      "needs_background": "light"
     },
     "output_type": "display_data"
    }
   ],
   "source": [
    "build_boxplot_time([ga_time, mo_time], [\"ga\", \"mo\"] )"
   ]
  },
  {
   "cell_type": "code",
   "execution_count": 108,
   "id": "political-anime",
   "metadata": {},
   "outputs": [
    {
     "data": {
      "image/png": "[encoded data removed]",
      "text/plain": [
       "<Figure size 1440x720 with 1 Axes>"
      ]
     },
     "metadata": {
      "needs_background": "light"
     },
     "output_type": "display_data"
    }
   ],
   "source": [
    "import matplotlib.pyplot as plt\n",
    "\n",
    "def box_plot(data, edge_color, fill_color):\n",
    "    bp = ax.boxplot(data, patch_artist=True, labels=None)\n",
    "    \n",
    "    for element in ['boxes', 'whiskers', 'fliers', 'means', 'medians', 'caps']:\n",
    "        plt.setp(bp[element], color=edge_color)\n",
    "\n",
    "    for patch in bp['boxes']:\n",
    "        patch.set(facecolor=fill_color)  \n",
    "        \n",
    "x = range(0, 21, 1)\n",
    "        \n",
    "x1 = range(0, 105000, 5000)\n",
    "\n",
    "fig, ax = plt.subplots(figsize=(20, 10))\n",
    "ax.set_xlabel('Number of evaluations', fontsize=20)\n",
    "ax.set_ylabel('Fitness value', fontsize=20)\n",
    "\n",
    "\n",
    "box_plot([ga_by_generation[v] for v in ga_by_generation], 'red', 'tan')\n",
    "box_plot([mo_by_generation[v] for v in mo_by_generation], 'blue', 'cyan')\n",
    "box_plot([ran_by_generation[v] for v in ran_by_generation], 'green', 'yellow')\n",
    "\n",
    "ax.set_xticks(x)\n",
    "ax.set_ylim(0, -30)\n",
    "ax.set_xticklabels(x1, fontsize=16, rotation=45)\n",
    "ax.tick_params(axis='y', labelsize=16)\n",
    "ax.grid(True)\n"
   ]
  },
  {
   "cell_type": "markdown",
   "id": "extra-sample",
   "metadata": {},
   "source": [
    "Do statistical tests"
   ]
  },
  {
   "cell_type": "code",
   "execution_count": 77,
   "id": "included-corporation",
   "metadata": {},
   "outputs": [
    {
     "data": {
      "text/plain": [
       "[-17.0658949126487,\n",
       " -16.517723629346733,\n",
       " -17.578279837063565,\n",
       " -13.804725525357119,\n",
       " -18.111025063338264,\n",
       " -16.924950203671415,\n",
       " -13.791610985621944,\n",
       " -16.570591837980384,\n",
       " -13.48142817228124,\n",
       " -16.818541210270723,\n",
       " -12.672611715679674,\n",
       " -15.29147421397275]"
      ]
     },
     "execution_count": 77,
     "metadata": {},
     "output_type": "execute_result"
    }
   ],
   "source": [
    "ga_by_generation[190]"
   ]
  },
  {
   "cell_type": "code",
   "execution_count": 78,
   "id": "according-individual",
   "metadata": {},
   "outputs": [
    {
     "data": {
      "text/plain": [
       "[-16.329191136793497,\n",
       " -19.68492141393947,\n",
       " -16.801491315208,\n",
       " -17.807604851300166,\n",
       " -18.105055573410084,\n",
       " -17.440297717842963,\n",
       " -17.673136705529917,\n",
       " -16.860270041595967,\n",
       " -16.462529165092626,\n",
       " -17.72251760836698,\n",
       " -17.8660338619736,\n",
       " -20.31334713505603,\n",
       " -22.31948609609598,\n",
       " -17.209751227414905,\n",
       " -20.95659178077667,\n",
       " -20.432615731271174]"
      ]
     },
     "execution_count": 78,
     "metadata": {},
     "output_type": "execute_result"
    }
   ],
   "source": [
    "mo_by_generation[190]"
   ]
  },
  {
   "cell_type": "code",
   "execution_count": 79,
   "id": "enclosed-centre",
   "metadata": {},
   "outputs": [
    {
     "data": {
      "text/plain": [
       "MannwhitneyuResult(statistic=160.0, pvalue=0.0031992657677819237)"
      ]
     },
     "execution_count": 79,
     "metadata": {},
     "output_type": "execute_result"
    }
   ],
   "source": [
    "from scipy.stats import mannwhitneyu\n",
    "mannwhitneyu(ga_by_generation[190],mo_by_generation[190], alternative=\"two-sided\")"
   ]
  },
  {
   "cell_type": "code",
   "execution_count": 80,
   "id": "straight-pricing",
   "metadata": {},
   "outputs": [
    {
     "data": {
      "text/plain": [
       "(0.6666666666666666, 'large')"
      ]
     },
     "execution_count": 80,
     "metadata": {},
     "output_type": "execute_result"
    }
   ],
   "source": [
    "from cliffsDelta import cliffsDelta\n",
    "d, res = cliffsDelta(ga_by_generation[190],mo_by_generation[190] )\n",
    "(d, res)"
   ]
  },
  {
   "cell_type": "code",
   "execution_count": 94,
   "id": "affected-relief",
   "metadata": {},
   "outputs": [
    {
     "data": {
      "text/plain": [
       "MannwhitneyuResult(statistic=56.0, pvalue=0.06669238045530092)"
      ]
     },
     "execution_count": 94,
     "metadata": {},
     "output_type": "execute_result"
    }
   ],
   "source": [
    "mannwhitneyu(ga_novelty,mo_novelty, alternative=\"two-sided\")"
   ]
  },
  {
   "cell_type": "code",
   "execution_count": null,
   "id": "brown-colony",
   "metadata": {},
   "outputs": [],
   "source": []
  }
 ],
 "metadata": {
  "kernelspec": {
   "display_name": "Python 3",
   "language": "python",
   "name": "python3"
  },
  "language_info": {
   "codemirror_mode": {
    "name": "ipython",
    "version": 3
   },
   "file_extension": ".py",
   "mimetype": "text/x-python",
   "name": "python",
   "nbconvert_exporter": "python",
   "pygments_lexer": "ipython3",
   "version": "3.9.1"
  }
 },
 "nbformat": 4,
 "nbformat_minor": 5
}
