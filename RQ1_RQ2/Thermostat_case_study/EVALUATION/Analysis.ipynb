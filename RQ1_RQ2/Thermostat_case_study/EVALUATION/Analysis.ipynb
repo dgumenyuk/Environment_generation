{
 "cells": [
  {
   "cell_type": "code",
   "execution_count": 1,
   "id": "common-stadium",
   "metadata": {},
   "outputs": [],
   "source": [
    "import json\n",
    "from matplotlib import pyplot as plt\n",
    "import numpy as np\n",
    "\n",
    "import statistics"
   ]
  },
  {
   "cell_type": "code",
   "execution_count": 2,
   "id": "defined-opposition",
   "metadata": {},
   "outputs": [],
   "source": [
    "n_gen = 200\n",
    "n = 10"
   ]
  },
  {
   "cell_type": "code",
   "execution_count": 3,
   "id": "heated-links",
   "metadata": {},
   "outputs": [],
   "source": [
    "with open(\"Results_dict_ga.json\", \"r\") as f:\n",
    "    ga = json.load(f)"
   ]
  },
  {
   "cell_type": "code",
   "execution_count": 4,
   "id": "facial-yahoo",
   "metadata": {},
   "outputs": [],
   "source": [
    "with open(\"Results_dict_mo.json\", \"r\") as f:\n",
    "    mo = json.load(f)"
   ]
  },
  {
   "cell_type": "code",
   "execution_count": 5,
   "id": "ready-landing",
   "metadata": {},
   "outputs": [],
   "source": [
    "with open(\"Results_dict_random.json\", \"r\") as f:\n",
    "    ran = json.load(f)"
   ]
  },
  {
   "cell_type": "markdown",
   "id": "martial-covering",
   "metadata": {},
   "source": [
    "*Group by 10 generations*"
   ]
  },
  {
   "cell_type": "code",
   "execution_count": 9,
   "id": "monthly-catering",
   "metadata": {},
   "outputs": [],
   "source": [
    "mo_by_generation = {}\n",
    "for i in range(0, n_gen, n):\n",
    "    mo_by_generation[i] = []\n",
    "#mo_by_generation"
   ]
  },
  {
   "cell_type": "code",
   "execution_count": 10,
   "id": "resistant-january",
   "metadata": {},
   "outputs": [],
   "source": [
    "ga_by_generation = {}\n",
    "for i in range(0, n_gen, n):\n",
    "    ga_by_generation[i] = []"
   ]
  },
  {
   "cell_type": "code",
   "execution_count": 11,
   "id": "republican-figure",
   "metadata": {},
   "outputs": [],
   "source": [
    "ran_by_generation = {}\n",
    "for i in range(0, n_gen, n):\n",
    "    ran_by_generation[i] = []"
   ]
  },
  {
   "cell_type": "code",
   "execution_count": 12,
   "id": "vital-montana",
   "metadata": {},
   "outputs": [],
   "source": [
    "n_gen_res = []\n",
    "for i, run in enumerate(ran):\n",
    "    for m in range(0, len(ran[run][\"fitness\"]), n):\n",
    "        ran_by_generation[m].append(ran[run][\"fitness\"][m])"
   ]
  },
  {
   "cell_type": "code",
   "execution_count": 13,
   "id": "frozen-rocket",
   "metadata": {},
   "outputs": [],
   "source": [
    "\n",
    "for i, run in enumerate(mo):\n",
    "    for m in range(0, len(mo[run][\"fitness\"]), n):\n",
    "        mo_by_generation[m].append(mo[run][\"fitness\"][m])\n",
    "        "
   ]
  },
  {
   "cell_type": "code",
   "execution_count": 14,
   "id": "administrative-arbor",
   "metadata": {},
   "outputs": [],
   "source": [
    "for i, run in enumerate(ga):\n",
    "    for m in range(0, len(ga[run][\"fitness\"]), n):\n",
    "        ga_by_generation[m].append(ga[run][\"fitness\"][m])\n"
   ]
  },
  {
   "cell_type": "markdown",
   "id": "advisory-geology",
   "metadata": {},
   "source": [
    "Calculate the novelty"
   ]
  },
  {
   "cell_type": "code",
   "execution_count": 20,
   "id": "palestinian-cooperation",
   "metadata": {},
   "outputs": [],
   "source": [
    "mo_novelty = []\n",
    "for i, run in enumerate(mo):\n",
    "    mo_novelty.append(-mo[run][\"novelty\"])"
   ]
  },
  {
   "cell_type": "code",
   "execution_count": 21,
   "id": "proud-frontier",
   "metadata": {},
   "outputs": [],
   "source": [
    "ga_novelty = []\n",
    "for i, run in enumerate(ga):\n",
    "    ga_novelty.append(-ga[run][\"novelty\"])"
   ]
  },
  {
   "cell_type": "markdown",
   "id": "hearing-montreal",
   "metadata": {},
   "source": [
    "Calculate time"
   ]
  },
  {
   "cell_type": "code",
   "execution_count": 15,
   "id": "alpha-connectivity",
   "metadata": {},
   "outputs": [
    {
     "data": {
      "text/plain": [
       "123.66509956518809"
      ]
     },
     "execution_count": 15,
     "metadata": {},
     "output_type": "execute_result"
    }
   ],
   "source": [
    "mo_time = []\n",
    "for i, run in enumerate(mo):\n",
    "    mo_time.append(mo[run][\"time\"])\n",
    "sum(mo_time)/len(mo_time)"
   ]
  },
  {
   "cell_type": "code",
   "execution_count": 16,
   "id": "shared-preference",
   "metadata": {},
   "outputs": [
    {
     "data": {
      "text/plain": [
       "136.6919586022695"
      ]
     },
     "execution_count": 16,
     "metadata": {},
     "output_type": "execute_result"
    }
   ],
   "source": [
    "ga_time = []\n",
    "for i, run in enumerate(ga):\n",
    "    ga_time.append(ga[run][\"time\"])\n",
    "sum(ga_time)/len(ga_time)"
   ]
  },
  {
   "cell_type": "markdown",
   "id": "trying-potter",
   "metadata": {},
   "source": [
    "Build graphs"
   ]
  },
  {
   "cell_type": "code",
   "execution_count": 24,
   "id": "controlling-diary",
   "metadata": {},
   "outputs": [],
   "source": [
    "def build_boxplot(y1, x1):\n",
    "    fig, ax1 = plt.subplots(figsize=(10, 5))\n",
    "    ax1.set_xlabel('Type of algorithm', fontsize=16)\n",
    "    ax1.set_ylabel('Average novelty', fontsize=16)\n",
    "    \n",
    "    ax1.set_xticklabels(x1, fontsize=16, rotation=45)\n",
    "    \n",
    "    ax1.yaxis.grid(True, linestyle='-', which='major', color='darkgray', alpha=0.5)\n",
    "\n",
    "    top = 15\n",
    "    bottom = 0\n",
    "    ax1.set_ylim(bottom, top)\n",
    "    ax1.boxplot(y1)    \n",
    "    ax1.tick_params(axis='y', labelsize=16)"
   ]
  },
  {
   "cell_type": "code",
   "execution_count": 25,
   "id": "automatic-mapping",
   "metadata": {},
   "outputs": [
    {
     "name": "stderr",
     "output_type": "stream",
     "text": [
      "<ipython-input-24-ba0d97d0a277>:6: UserWarning: FixedFormatter should only be used together with FixedLocator\n",
      "  ax1.set_xticklabels(x1, fontsize=16, rotation=45)\n"
     ]
    },
    {
     "data": {
      "image/png": "[encoded data removed]",
      "text/plain": [
       "<Figure size 720x360 with 1 Axes>"
      ]
     },
     "metadata": {
      "needs_background": "light"
     },
     "output_type": "display_data"
    }
   ],
   "source": [
    "build_boxplot([ga_novelty, mo_novelty], [\"GA\", \"NSGA2\"] )"
   ]
  },
  {
   "cell_type": "code",
   "execution_count": 29,
   "id": "killing-transparency",
   "metadata": {},
   "outputs": [],
   "source": [
    "def build_boxplot_time(y1, x1):\n",
    "    fig, ax1 = plt.subplots(figsize=(20, 10))\n",
    "    \n",
    "    ax1.set_xlabel('Type of algorithm', fontsize=16)\n",
    "    ax1.set_ylabel('Time for 50 000 evaluations, sec', fontsize=16)\n",
    "    \n",
    "    ax1.set_xticklabels(x1, fontsize=16, rotation=45)\n",
    "    \n",
    "    ax1.yaxis.grid(True, linestyle='-', which='major', color='darkgray', alpha=0.5)\n",
    "    top = 200\n",
    "    bottom = 0\n",
    "    ax1.set_ylim(bottom, top)\n",
    "    ax1.boxplot(y1)\n",
    "    \n",
    "    ax1.tick_params(axis='y', labelsize=16)"
   ]
  },
  {
   "cell_type": "code",
   "execution_count": 30,
   "id": "turned-plaza",
   "metadata": {},
   "outputs": [
    {
     "name": "stderr",
     "output_type": "stream",
     "text": [
      "<ipython-input-29-fce701a93406>:7: UserWarning: FixedFormatter should only be used together with FixedLocator\n",
      "  ax1.set_xticklabels(x1, fontsize=16, rotation=45)\n"
     ]
    },
    {
     "data": {
      "image/png": "[encoded data removed]",
      "text/plain": [
       "<Figure size 1440x720 with 1 Axes>"
      ]
     },
     "metadata": {
      "needs_background": "light"
     },
     "output_type": "display_data"
    }
   ],
   "source": [
    "build_boxplot_time([ga_time, mo_time], [\"ga\", \"mo\"] )"
   ]
  },
  {
   "cell_type": "code",
   "execution_count": 37,
   "id": "political-anime",
   "metadata": {},
   "outputs": [
    {
     "data": {
      "image/png": "[encoded data removed]",
      "text/plain": [
       "<Figure size 1440x720 with 1 Axes>"
      ]
     },
     "metadata": {
      "needs_background": "light"
     },
     "output_type": "display_data"
    }
   ],
   "source": [
    "import matplotlib.pyplot as plt\n",
    "\n",
    "def box_plot(data, edge_color, fill_color):\n",
    "    bp = ax.boxplot(data, patch_artist=True)\n",
    "    \n",
    "    for element in ['boxes', 'whiskers', 'fliers', 'means', 'medians', 'caps']:\n",
    "        plt.setp(bp[element], color=edge_color)\n",
    "\n",
    "    for patch in bp['boxes']:\n",
    "        patch.set(facecolor=fill_color)  \n",
    "        \n",
    "        \n",
    "x = range(0, 21, 1)\n",
    "        \n",
    "x1 = range(0, 50100, 2500)\n",
    "\n",
    "fig, ax = plt.subplots(figsize=(20, 10))\n",
    "ax.set_xlabel('Number of evaluations', fontsize=20)\n",
    "ax.set_ylabel('Fitness value', fontsize=20)\n",
    "\n",
    "\n",
    "box_plot([ga_by_generation[v] for v in ga_by_generation], 'red', 'tan')\n",
    "box_plot([mo_by_generation[v] for v in mo_by_generation], 'blue', 'cyan')\n",
    "box_plot([ran_by_generation[v] for v in ran_by_generation], 'green', 'yellow')\n",
    "\n",
    "ax.set_xticks(x)\n",
    "ax.set_ylim(0, -5)\n",
    "ax.set_xticklabels(x1, fontsize=16, rotation=45)\n",
    "ax.tick_params(axis='y', labelsize=16)\n",
    "ax.grid(True)\n",
    "#plt.show()"
   ]
  },
  {
   "cell_type": "markdown",
   "id": "documented-absence",
   "metadata": {},
   "source": [
    "Do statistical tests"
   ]
  },
  {
   "cell_type": "code",
   "execution_count": null,
   "id": "prime-input",
   "metadata": {},
   "outputs": [],
   "source": [
    "from scipy.stats import mannwhitneyu"
   ]
  },
  {
   "cell_type": "code",
   "execution_count": 58,
   "id": "introductory-radius",
   "metadata": {},
   "outputs": [
    {
     "data": {
      "text/plain": [
       "MannwhitneyuResult(statistic=0.0, pvalue=3.002865221010998e-11)"
      ]
     },
     "execution_count": 58,
     "metadata": {},
     "output_type": "execute_result"
    }
   ],
   "source": [
    "mannwhitneyu(ga_novelty,mo_novelty, alternative=\"two-sided\")"
   ]
  },
  {
   "cell_type": "code",
   "execution_count": 60,
   "id": "bacterial-brunei",
   "metadata": {},
   "outputs": [
    {
     "data": {
      "text/plain": [
       "(-1.0, 'large')"
      ]
     },
     "execution_count": 60,
     "metadata": {},
     "output_type": "execute_result"
    }
   ],
   "source": [
    "from cliffsDelta import cliffsDelta\n",
    "d, res = cliffsDelta(ga_novelty,mo_novelty )\n",
    "(d, res)"
   ]
  },
  {
   "cell_type": "code",
   "execution_count": null,
   "id": "quarterly-values",
   "metadata": {},
   "outputs": [],
   "source": []
  }
 ],
 "metadata": {
  "kernelspec": {
   "display_name": "Python 3",
   "language": "python",
   "name": "python3"
  },
  "language_info": {
   "codemirror_mode": {
    "name": "ipython",
    "version": 3
   },
   "file_extension": ".py",
   "mimetype": "text/x-python",
   "name": "python",
   "nbconvert_exporter": "python",
   "pygments_lexer": "ipython3",
   "version": "3.9.1"
  }
 },
 "nbformat": 4,
 "nbformat_minor": 5
}
